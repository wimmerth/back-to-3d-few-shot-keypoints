{
 "cells": [
  {
   "cell_type": "code",
   "outputs": [],
   "source": [
    "import torch\n",
    "from pytorch3d.io import IO\n",
    "from pytorch3d.renderer import TexturesVertex\n",
    "\n",
    "device = torch.device(\"cuda\" if torch.cuda.is_available() else \"cpu\")\n",
    "\n",
    "# Load mesh\n",
    "# We are using a mesh from the ShapeNet Dataset (https://shapenet.org/)\n",
    "io = IO()\n",
    "mesh = io.load_mesh(\"airplane.ply\", include_textures=False)\n",
    "mesh.textures = TexturesVertex(verts_features=torch.ones_like(mesh.verts_packed()[None]) * 0.7)\n",
    "mesh = mesh.to(device)"
   ],
   "metadata": {
    "collapsed": false
   },
   "id": "cf2bf424dc655a9e",
   "execution_count": null
  },
  {
   "cell_type": "code",
   "outputs": [],
   "source": [
    "from feature_backprojection import features_from_views, DINOWrapper\n",
    "from utils.geometry import pairwise_geodesic_distances_mesh\n",
    "from utils.rendering import setup_renderer, sample_view_points\n",
    "import torch\n",
    "\n",
    "# Compute features\n",
    "renderer = setup_renderer(device)\n",
    "model = DINOWrapper(device, small=True)\n",
    "render_dist = 1.1\n",
    "views = sample_view_points(render_dist, 5)\n",
    "geo_dists = pairwise_geodesic_distances_mesh(mesh.verts_packed().to(\"cpu\"), mesh.faces_packed().to(\"cpu\"))\n",
    "features = features_from_views(\n",
    "    renderer=renderer, model=model, mesh=mesh, views=views, render_dist=render_dist, batch_size=8,\n",
    "    device=device, geo_dists=geo_dists, gaussian_sigma=0.001, only_visible=True\n",
    ")"
   ],
   "metadata": {
    "collapsed": false
   },
   "id": "e348ac408fc189da",
   "execution_count": null
  },
  {
   "cell_type": "code",
   "outputs": [],
   "source": [
    "from sklearn.decomposition import PCA\n",
    "from pytorch3d.vis.plotly_vis import plot_scene\n",
    "\n",
    "# Perform PCA for visualization\n",
    "pca = PCA(n_components=3)\n",
    "features_pca = pca.fit_transform(features.cpu().numpy())\n",
    "features_pca = (features_pca - features_pca.min(axis=0)) / (features_pca.max(axis=0) - features_pca.min(axis=0))\n",
    "mesh.textures = TexturesVertex(verts_features=torch.tensor(features_pca, dtype=torch.float32)[None].to(device))\n",
    "plot_scene({\n",
    "    \"mesh\": {\n",
    "        \"mesh\": mesh,\n",
    "    }\n",
    "})"
   ],
   "metadata": {
    "collapsed": false
   },
   "id": "867c8770b747b473",
   "execution_count": null
  }
 ],
 "metadata": {
  "kernelspec": {
   "display_name": "Python 3",
   "language": "python",
   "name": "python3"
  },
  "language_info": {
   "codemirror_mode": {
    "name": "ipython",
    "version": 2
   },
   "file_extension": ".py",
   "mimetype": "text/x-python",
   "name": "python",
   "nbconvert_exporter": "python",
   "pygments_lexer": "ipython2",
   "version": "2.7.6"
  }
 },
 "nbformat": 4,
 "nbformat_minor": 5
}
